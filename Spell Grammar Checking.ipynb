{
 "cells": [
  {
   "cell_type": "markdown",
   "metadata": {},
   "source": [
    "CHECK SPELLING WORDS IN ENGLISH"
   ]
  },
  {
   "cell_type": "code",
   "execution_count": 5,
   "metadata": {},
   "outputs": [
    {
     "name": "stdout",
     "output_type": "stream",
     "text": [
      "lve\n"
     ]
    },
    {
     "data": {
      "text/plain": [
       "False"
      ]
     },
     "execution_count": 5,
     "metadata": {},
     "output_type": "execute_result"
    }
   ],
   "source": [
    "dictionary = set()\n",
    "word = input()\n",
    "\n",
    "def read_dictionary_file():\n",
    "    global dictionary\n",
    "    if dictionary:\n",
    "        return\n",
    "\n",
    "    with open(\"C:/Users/Nhat/Downloads/nlp-anh-viet-SpellingCorrection-main/nlp-anh-viet-SpellingCorrection-main/data_english.txt\", \"r\", encoding=\"utf8\") as f:\n",
    "        contents = f.read()\n",
    "\n",
    "    dictionary = set(\n",
    "        word.lower()\n",
    "        for word in contents.splitlines()\n",
    "    )\n",
    "\n",
    "def is_spelled_correctly(word):\n",
    "    # Return True if spelled correctly; false otherwise\n",
    "    word = word.lower()\n",
    "    read_dictionary_file()\n",
    "    return word in dictionary\n",
    "    print(word)\n",
    "is_spelled_correctly(word)"
   ]
  },
  {
   "cell_type": "markdown",
   "metadata": {},
   "source": [
    "CHECK SPELLING WORDS IN VIETNAMESE"
   ]
  },
  {
   "cell_type": "code",
   "execution_count": null,
   "metadata": {},
   "outputs": [],
   "source": [
    "dictionary = set()\n",
    "word = input()\n",
    "\n",
    "def read_dictionary_file():\n",
    "    global dictionary\n",
    "    if dictionary:\n",
    "        return\n",
    "\n",
    "    with open(\"C:/Users/Nhat/Downloads/nlp-anh-viet-SpellingCorrection-main/nlp-anh-viet-SpellingCorrection-main/tiengvietok123.txt\", \"r\", encoding=\"utf8\") as f:\n",
    "        contents = f.read()\n",
    "\n",
    "    dictionary = set(\n",
    "        word.lower()\n",
    "        for word in contents.splitlines()\n",
    "    )\n",
    "\n",
    "def is_spelled_correctly_vi(word):\n",
    "    # Return True if spelled correctly; false otherwise\n",
    "    word = word.lower()\n",
    "    read_dictionary_file()\n",
    "    return word in dictionary\n",
    "    print(word)\n",
    "is_spelled_correctly_vi(word)"
   ]
  },
  {
   "cell_type": "markdown",
   "metadata": {},
   "source": [
    "FIX ERRORS FROM ENGLISH"
   ]
  },
  {
   "cell_type": "code",
   "execution_count": 7,
   "metadata": {},
   "outputs": [
    {
     "name": "stdout",
     "output_type": "stream",
     "text": [
      "Requirement already satisfied: TextBlob in c:\\users\\nhat\\appdata\\local\\programs\\python\\python310\\lib\\site-packages (0.17.1)\n",
      "Requirement already satisfied: nltk>=3.1 in c:\\users\\nhat\\appdata\\local\\programs\\python\\python310\\lib\\site-packages (from TextBlob) (3.7)\n",
      "Requirement already satisfied: regex>=2021.8.3 in c:\\users\\nhat\\appdata\\local\\programs\\python\\python310\\lib\\site-packages (from nltk>=3.1->TextBlob) (2022.9.13)\n",
      "Requirement already satisfied: click in c:\\users\\nhat\\appdata\\local\\programs\\python\\python310\\lib\\site-packages (from nltk>=3.1->TextBlob) (8.1.3)\n",
      "Requirement already satisfied: joblib in c:\\users\\nhat\\appdata\\local\\programs\\python\\python310\\lib\\site-packages (from nltk>=3.1->TextBlob) (1.1.0)\n",
      "Requirement already satisfied: tqdm in c:\\users\\nhat\\appdata\\local\\programs\\python\\python310\\lib\\site-packages (from nltk>=3.1->TextBlob) (4.64.1)\n",
      "Requirement already satisfied: colorama in c:\\users\\nhat\\appdata\\local\\programs\\python\\python310\\lib\\site-packages (from click->nltk>=3.1->TextBlob) (0.4.4)\n"
     ]
    },
    {
     "name": "stderr",
     "output_type": "stream",
     "text": [
      "\n",
      "[notice] A new release of pip available: 22.3 -> 22.3.1\n",
      "[notice] To update, run: python.exe -m pip install --upgrade pip\n"
     ]
    }
   ],
   "source": [
    "!pip install TextBlob"
   ]
  },
  {
   "cell_type": "code",
   "execution_count": 10,
   "metadata": {},
   "outputs": [
    {
     "name": "stdout",
     "output_type": "stream",
     "text": [
      "doo\n",
      "do\n"
     ]
    }
   ],
   "source": [
    "from textblob import Word\n",
    "\n",
    "def correct_word_spelling(word):\n",
    "    word = Word(word)\n",
    "    result = word.correct()\n",
    "    print(result)\n",
    "    \n",
    "a = input()\n",
    "correct_word_spelling(a)"
   ]
  },
  {
   "cell_type": "code",
   "execution_count": null,
   "metadata": {
    "scrolled": true
   },
   "outputs": [],
   "source": [
    "!pip install cloudscraper"
   ]
  },
  {
   "cell_type": "code",
   "execution_count": 12,
   "metadata": {},
   "outputs": [
    {
     "name": "stdout",
     "output_type": "stream",
     "text": [
      "Requirement already satisfied: GingerIt in c:\\users\\nhat\\appdata\\local\\programs\\python\\python310\\lib\\site-packages (0.8.2)\n",
      "Requirement already satisfied: requests<3.0.0,>=2.25.1 in c:\\users\\nhat\\appdata\\local\\programs\\python\\python310\\lib\\site-packages (from GingerIt) (2.28.0)\n",
      "Requirement already satisfied: charset-normalizer~=2.0.0 in c:\\users\\nhat\\appdata\\local\\programs\\python\\python310\\lib\\site-packages (from requests<3.0.0,>=2.25.1->GingerIt) (2.0.12)\n",
      "Requirement already satisfied: certifi>=2017.4.17 in c:\\users\\nhat\\appdata\\local\\programs\\python\\python310\\lib\\site-packages (from requests<3.0.0,>=2.25.1->GingerIt) (2022.5.18.1)\n",
      "Requirement already satisfied: idna<4,>=2.5 in c:\\users\\nhat\\appdata\\local\\programs\\python\\python310\\lib\\site-packages (from requests<3.0.0,>=2.25.1->GingerIt) (2.10)\n",
      "Requirement already satisfied: urllib3<1.27,>=1.21.1 in c:\\users\\nhat\\appdata\\local\\programs\\python\\python310\\lib\\site-packages (from requests<3.0.0,>=2.25.1->GingerIt) (1.26.9)\n"
     ]
    },
    {
     "name": "stderr",
     "output_type": "stream",
     "text": [
      "\n",
      "[notice] A new release of pip available: 22.3 -> 22.3.1\n",
      "[notice] To update, run: python.exe -m pip install --upgrade pip\n"
     ]
    }
   ],
   "source": [
    "!pip install GingerIt"
   ]
  },
  {
   "cell_type": "markdown",
   "metadata": {},
   "source": [
    "CORRECT GRAMMAR ERRORS IN E.G"
   ]
  },
  {
   "cell_type": "code",
   "execution_count": 5,
   "metadata": {
    "scrolled": true
   },
   "outputs": [
    {
     "name": "stdout",
     "output_type": "stream",
     "text": [
      "Enter a sentence: I hav had salty coffee for my whol life. This was the only lie I said to you the salty coffe. Remember the first time we dated.\n",
      "I have had the salty coffee for my whole life. This was the only lie I said to you the salty coffee. Remember the first time we dated.\n"
     ]
    }
   ],
   "source": [
    "from gingerit import GingerIt\n",
    "text = input(\"Enter a sentence: \")\n",
    "corrected_text = GingerIt().parse(text)\n",
    "print(corrected_text['result'])"
   ]
  },
  {
   "cell_type": "markdown",
   "metadata": {},
   "source": [
    "CHECK GRAMMAR IN E.L"
   ]
  },
  {
   "cell_type": "code",
   "execution_count": 6,
   "metadata": {},
   "outputs": [
    {
     "name": "stdout",
     "output_type": "stream",
     "text": [
      "I hav had salty coffee for my whol life. This was the only lie I said to you the salty coffe. Remember the first time we dated.\n"
     ]
    },
    {
     "data": {
      "text/plain": [
       "{'result': 'I have had the salty coffee for my whole life. This was the only lie I said to you the salty coffee. Remember the first time we dated.',\n",
       " 'false_number': 25}"
      ]
     },
     "execution_count": 6,
     "metadata": {},
     "output_type": "execute_result"
    }
   ],
   "source": [
    "data_input = input()\n",
    "def Check_grammar(data_input):\n",
    "    dem = 0\n",
    "    dip = data_input.split(' ')\n",
    "    parse = GingerIt()\n",
    "    correct = parse.parse(data_input)[\"result\"]\n",
    "    correct_i = correct.split(\" \")\n",
    "    for i in range(len(dip)):\n",
    "        if dip[i] != correct_i[i]:\n",
    "            dem += 1\n",
    "    return {\"result\": correct, \"false_number\": dem}\n",
    "\n",
    "Check_grammar(data_input)"
   ]
  },
  {
   "cell_type": "code",
   "execution_count": 6,
   "metadata": {},
   "outputs": [
    {
     "name": "stdout",
     "output_type": "stream",
     "text": [
      "Collecting pyttsx3\n",
      "  Using cached pyttsx3-2.90-py3-none-any.whl (39 kB)\n",
      "Collecting pypiwin32\n",
      "  Using cached pypiwin32-223-py3-none-any.whl (1.7 kB)\n",
      "Requirement already satisfied: pywin32 in c:\\users\\nhat\\appdata\\local\\programs\\python\\python310\\lib\\site-packages (from pyttsx3) (304)\n",
      "Collecting comtypes\n",
      "  Downloading comtypes-1.1.14-py2.py3-none-any.whl (172 kB)\n",
      "     -------------------------------------- 172.8/172.8 kB 1.7 MB/s eta 0:00:00\n",
      "Installing collected packages: comtypes, pypiwin32, pyttsx3\n",
      "Successfully installed comtypes-1.1.14 pypiwin32-223 pyttsx3-2.90\n"
     ]
    }
   ],
   "source": [
    "!pip install pyttsx3"
   ]
  },
  {
   "cell_type": "markdown",
   "metadata": {},
   "source": [
    "VOICE IN ENGLISH"
   ]
  },
  {
   "cell_type": "code",
   "execution_count": 7,
   "metadata": {
    "scrolled": true
   },
   "outputs": [
    {
     "name": "stdout",
     "output_type": "stream",
     "text": [
      "Hello, my name is Adam\n"
     ]
    }
   ],
   "source": [
    "import pyttsx3\n",
    "\n",
    "text = input()\n",
    "engine = pyttsx3.init()\n",
    "engine.say(text)\n",
    "engine.runAndWait()"
   ]
  },
  {
   "cell_type": "code",
   "execution_count": 10,
   "metadata": {
    "scrolled": true
   },
   "outputs": [
    {
     "name": "stdout",
     "output_type": "stream",
     "text": [
      "Collecting language_tool_python\n",
      "  Downloading language_tool_python-2.7.1-py3-none-any.whl (34 kB)\n",
      "Requirement already satisfied: requests in c:\\users\\nhat\\anaconda3\\lib\\site-packages (from language_tool_python) (2.28.1)\n",
      "Requirement already satisfied: tqdm in c:\\users\\nhat\\anaconda3\\lib\\site-packages (from language_tool_python) (4.47.0)\n",
      "Requirement already satisfied: charset-normalizer<3,>=2 in c:\\users\\nhat\\anaconda3\\lib\\site-packages (from requests->language_tool_python) (2.1.1)\n",
      "Requirement already satisfied: urllib3<1.27,>=1.21.1 in c:\\users\\nhat\\anaconda3\\lib\\site-packages (from requests->language_tool_python) (1.25.9)\n",
      "Requirement already satisfied: idna<4,>=2.5 in c:\\users\\nhat\\anaconda3\\lib\\site-packages (from requests->language_tool_python) (2.10)\n",
      "Requirement already satisfied: certifi>=2017.4.17 in c:\\users\\nhat\\anaconda3\\lib\\site-packages (from requests->language_tool_python) (2020.6.20)"
     ]
    },
    {
     "name": "stderr",
     "output_type": "stream",
     "text": [
      "\n",
      "[notice] A new release of pip available: 22.2.2 -> 22.3\n",
      "[notice] To update, run: python.exe -m pip install --upgrade pip\n"
     ]
    },
    {
     "name": "stdout",
     "output_type": "stream",
     "text": [
      "\n",
      "Installing collected packages: language_tool_python\n",
      "Successfully installed language_tool_python-2.7.1\n"
     ]
    }
   ],
   "source": [
    "!pip install language_tool_python"
   ]
  },
  {
   "cell_type": "code",
   "execution_count": 53,
   "metadata": {},
   "outputs": [
    {
     "name": "stdout",
     "output_type": "stream",
     "text": [
      "whatt iss yourr namee\n",
      "{'text': 'whatt iss yourr namee', 'result': 'whatt iss yourr namee', 'corrections': []}\n"
     ]
    },
    {
     "data": {
      "text/plain": [
       "{'result': 'whatt iss yourr namee', 'false_number': 1}"
      ]
     },
     "execution_count": 53,
     "metadata": {},
     "output_type": "execute_result"
    }
   ],
   "source": [
    "def Check_grammar(data_input):\n",
    "    dem = 0\n",
    "    data_input = input()\n",
    "    dip = data_input.split('.')\n",
    "    parse = GingerIt()\n",
    "    for i in range(len(dip)):\n",
    "        correct_i = parse.parse(data_input)\n",
    "        print(correct_i)\n",
    "        if data_input != correct_i:\n",
    "            dem += 1\n",
    "            #a = data_input\n",
    "            dip[i] = dip[i]\n",
    "    rt = \"\".join(dip)\n",
    "    return {\"result\": rt, \"false_number\": dem}\n",
    "\n",
    "Check_grammar(data_input)"
   ]
  },
  {
   "cell_type": "code",
   "execution_count": 67,
   "metadata": {},
   "outputs": [
    {
     "name": "stdout",
     "output_type": "stream",
     "text": [
      "he are one of my friend\n",
      "{'text': 'he are one of my friend', 'result': 'he is one of my friends', 'corrections': [{'start': 17, 'text': 'friend', 'correct': 'friends', 'definition': None}, {'start': 3, 'text': 'are', 'correct': 'is', 'definition': None}]}\n"
     ]
    }
   ],
   "source": [
    "from gingerit import GingerIt\n",
    "dem = 0\n",
    "data_input = input()\n",
    "parse = GingerIt()\n",
    "corr = parse.parse(data_input)\n",
    "print(corr)"
   ]
  },
  {
   "cell_type": "code",
   "execution_count": 11,
   "metadata": {},
   "outputs": [
    {
     "name": "stdout",
     "output_type": "stream",
     "text": [
      "i lv yu\n"
     ]
    },
    {
     "data": {
      "text/plain": [
       "{'result': 'I love you', 'false_number': 3}"
      ]
     },
     "execution_count": 11,
     "metadata": {},
     "output_type": "execute_result"
    }
   ],
   "source": [
    "data_input = input()\n",
    "def Check_grammar(data_input):\n",
    "    dem = 0\n",
    "    dip = data_input.split(' ')\n",
    "    parse = GingerIt()\n",
    "    correct = parse.parse(data_input)[\"result\"]\n",
    "    correct_i = correct.split(\" \")\n",
    "    for i in range(len(dip)):\n",
    "        if dip[i] != correct_i[i]:\n",
    "            dem += 1\n",
    "    return {\"result\": correct, \"false_number\": dem}\n",
    "\n",
    "Check_grammar(data_input)\n"
   ]
  },
  {
   "cell_type": "code",
   "execution_count": 20,
   "metadata": {},
   "outputs": [
    {
     "name": "stdout",
     "output_type": "stream",
     "text": [
      "livve\n",
      "Incorrect Word:  livve\n",
      "Corrected Word:  live\n"
     ]
    }
   ],
   "source": [
    "from textblob import TextBlob\n",
    "data_input = input()\n",
    "correct = TextBlob(data_input).correct()\n",
    "print(\"Incorrect Word: \", data_input)\n",
    "print(\"Corrected Word: \", correct)"
   ]
  },
  {
   "cell_type": "code",
   "execution_count": 33,
   "metadata": {},
   "outputs": [
    {
     "name": "stdout",
     "output_type": "stream",
     "text": [
      "Nguyển Hung Nhậc\n"
     ]
    }
   ],
   "source": [
    "from textblob import TextBlob\n",
    " \n",
    "txt = TextBlob(\"Nguyển Quang Nhậc\")\n",
    " \n",
    "# using correct() method\n",
    "txt = txt.correct()\n",
    " \n",
    "print(txt)"
   ]
  },
  {
   "cell_type": "code",
   "execution_count": 28,
   "metadata": {},
   "outputs": [
    {
     "name": "stdout",
     "output_type": "stream",
     "text": [
      "Collecting spellchecker\n",
      "  Downloading spellchecker-0.4.tar.gz (3.9 MB)\n",
      "     ---------------------------------------- 3.9/3.9 MB 3.9 MB/s eta 0:00:00\n",
      "  Preparing metadata (setup.py): started\n",
      "  Preparing metadata (setup.py): finished with status 'done'\n",
      "Requirement already satisfied: setuptools in c:\\users\\nhat\\appdata\\local\\programs\\python\\python310\\lib\\site-packages (from spellchecker) (58.1.0)\n",
      "Collecting inexactsearch\n",
      "  Downloading inexactsearch-1.0.2.tar.gz (21 kB)\n",
      "  Preparing metadata (setup.py): started\n",
      "  Preparing metadata (setup.py): finished with status 'done'\n",
      "Collecting soundex>=1.0\n",
      "  Downloading soundex-1.1.3.tar.gz (9.1 kB)\n",
      "  Preparing metadata (setup.py): started\n",
      "  Preparing metadata (setup.py): finished with status 'done'\n",
      "Collecting silpa_common>=0.3\n",
      "  Downloading silpa_common-0.3.tar.gz (9.4 kB)\n",
      "  Preparing metadata (setup.py): started\n",
      "  Preparing metadata (setup.py): finished with status 'done'\n",
      "Installing collected packages: silpa_common, soundex, inexactsearch, spellchecker\n",
      "  Running setup.py install for silpa_common: started\n",
      "  Running setup.py install for silpa_common: finished with status 'done'\n",
      "  Running setup.py install for soundex: started\n",
      "  Running setup.py install for soundex: finished with status 'done'\n",
      "  Running setup.py install for inexactsearch: started\n",
      "  Running setup.py install for inexactsearch: finished with status 'done'\n",
      "  Running setup.py install for spellchecker: started\n",
      "  Running setup.py install for spellchecker: finished with status 'done'\n",
      "Successfully installed inexactsearch-1.0.2 silpa_common-0.3 soundex-1.1.3 spellchecker-0.4\n"
     ]
    },
    {
     "name": "stderr",
     "output_type": "stream",
     "text": [
      "  DEPRECATION: silpa_common is being installed using the legacy 'setup.py install' method, because it does not have a 'pyproject.toml' and the 'wheel' package is not installed. pip 23.1 will enforce this behaviour change. A possible replacement is to enable the '--use-pep517' option. Discussion can be found at https://github.com/pypa/pip/issues/8559\n",
      "  DEPRECATION: soundex is being installed using the legacy 'setup.py install' method, because it does not have a 'pyproject.toml' and the 'wheel' package is not installed. pip 23.1 will enforce this behaviour change. A possible replacement is to enable the '--use-pep517' option. Discussion can be found at https://github.com/pypa/pip/issues/8559\n",
      "  DEPRECATION: inexactsearch is being installed using the legacy 'setup.py install' method, because it does not have a 'pyproject.toml' and the 'wheel' package is not installed. pip 23.1 will enforce this behaviour change. A possible replacement is to enable the '--use-pep517' option. Discussion can be found at https://github.com/pypa/pip/issues/8559\n",
      "  DEPRECATION: spellchecker is being installed using the legacy 'setup.py install' method, because it does not have a 'pyproject.toml' and the 'wheel' package is not installed. pip 23.1 will enforce this behaviour change. A possible replacement is to enable the '--use-pep517' option. Discussion can be found at https://github.com/pypa/pip/issues/8559\n"
     ]
    }
   ],
   "source": [
    "!pip install spellchecker"
   ]
  },
  {
   "cell_type": "code",
   "execution_count": null,
   "metadata": {},
   "outputs": [],
   "source": []
  }
 ],
 "metadata": {
  "kernelspec": {
   "display_name": "Python 3 (ipykernel)",
   "language": "python",
   "name": "python3"
  },
  "language_info": {
   "codemirror_mode": {
    "name": "ipython",
    "version": 3
   },
   "file_extension": ".py",
   "mimetype": "text/x-python",
   "name": "python",
   "nbconvert_exporter": "python",
   "pygments_lexer": "ipython3",
   "version": "3.10.5"
  }
 },
 "nbformat": 4,
 "nbformat_minor": 4
}
